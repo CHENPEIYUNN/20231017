{
  "nbformat": 4,
  "nbformat_minor": 0,
  "metadata": {
    "colab": {
      "provenance": []
    },
    "kernelspec": {
      "name": "python3",
      "display_name": "Python 3"
    },
    "language_info": {
      "name": "python"
    }
  },
  "cells": [
    {
      "cell_type": "code",
      "execution_count": 10,
      "metadata": {
        "colab": {
          "base_uri": "https://localhost:8080/"
        },
        "id": "uneYpxIKrMQI",
        "outputId": "59520731-038d-478b-d628-2e1fb3b529f1"
      },
      "outputs": [
        {
          "output_type": "stream",
          "name": "stdout",
          "text": [
            "        *\n",
            "       ***\n",
            "      *****\n",
            "     *******\n",
            "    *********\n",
            "   ***********\n",
            "  *************\n",
            " ***************\n",
            "*****************\n",
            "       ***\n",
            "       ***\n",
            "       ***\n",
            "       ***\n",
            "       ***\n"
          ]
        }
      ],
      "source": [
        "for a in range(0,9):\n",
        "  star=1+a*2\n",
        "  space=8-a\n",
        "  for b in range(space):\n",
        "    print(\" \",end=\"\")\n",
        "  for c in range(star):\n",
        "    print(f\"*\",end=\"\")\n",
        "  print(end=\"\\n\")\n",
        "for d in range(1,6):\n",
        "  for e in range(7):\n",
        "    print(\" \",end=\"\")\n",
        "  for f in range(3):\n",
        "    print(\"*\",end=\"\")\n",
        "  print(end=\"\\n\")\n",
        ""
      ]
    },
    {
      "cell_type": "code",
      "source": [
        "import random\n",
        "ans=random.sample(range(1,10),4)\n",
        "print(f'答案:{ans}')\n",
        "A=B=n=0\n",
        "while A!=4:\n",
        "  A=B=0\n",
        "  a=input(\"輸入4個數字(不會重複)\")\n",
        "  alen=len(a)\n",
        "  if alen>4:\n",
        "    continue\n",
        "  print(f\"{a}:\",end=\" \")\n",
        "  a=list(a)\n",
        "  for i in range(4):\n",
        "    if int(a[i])==ans[i]:\n",
        "      A+=1\n",
        "    elif int(a[i]) in ans:\n",
        "      B+=1\n",
        "  print(f\"{A}A{B}B\")\n",
        "  n+=1\n",
        "print(f\"答對了！總共猜了{n}次\")"
      ],
      "metadata": {
        "colab": {
          "base_uri": "https://localhost:8080/"
        },
        "id": "MVJwOTF27Lt8",
        "outputId": "0db7cc7a-c32c-4004-943f-2814704f4f23"
      },
      "execution_count": 26,
      "outputs": [
        {
          "output_type": "stream",
          "name": "stdout",
          "text": [
            "答案:[1, 9, 3, 6]\n",
            "輸入4個數字(不會重複)12345\n",
            "輸入4個數字(不會重複)1469\n",
            "1469: 1A2B\n",
            "輸入4個數字(不會重複)1326\n",
            "1326: 2A1B\n",
            "輸入4個數字(不會重複)1542\n",
            "1542: 1A0B\n",
            "輸入4個數字(不會重複)1396\n",
            "1396: 2A2B\n",
            "輸入4個數字(不會重複)1936\n",
            "1936: 4A0B\n",
            "答對了！總共猜了5次\n"
          ]
        }
      ]
    }
  ]
}